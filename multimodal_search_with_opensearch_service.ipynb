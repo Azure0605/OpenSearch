{
 "cells": [
  {
   "cell_type": "markdown",
   "id": "082aa845",
   "metadata": {},
   "source": [
    "# Build Multimodal Search with Amazon OpenSearch service"
   ]
  },
  {
   "cell_type": "code",
   "execution_count": 1,
   "id": "d9d38375",
   "metadata": {
    "scrolled": true
   },
   "outputs": [
    {
     "name": "stdout",
     "output_type": "stream",
     "text": []
    },
    {
     "name": "stderr",
     "output_type": "stream",
     "text": []
    }
   ],
   "source": [
    "#Install python packages\n",
    "%pip install requests_aws4auth boto3 pillow opensearch_py ipywidgets"
   ]
  },
  {
   "cell_type": "markdown",
   "id": "647587db",
   "metadata": {},
   "source": [
    "## 1. Setup OpenSearch client\n",
    "\n",
    "NOTE: Values enclosed within <> are the parameters that you should configure\n",
    "\n",
    "You should also setup opensearch authentication in the code "
   ]
  },
  {
   "cell_type": "code",
   "id": "57ed12ce",
   "metadata": {
    "ExecuteTime": {
     "end_time": "2024-07-17T07:43:10.360592Z",
     "start_time": "2024-07-17T07:43:10.340891Z"
    }
   },
   "source": [
    "import requests\n",
    "from requests_aws4auth import AWS4Auth\n",
    "import boto3\n",
    "import json\n",
    "from opensearchpy import OpenSearch, RequestsHttpConnection, AWSV4SignerAuth\n",
    "from requests.auth import HTTPBasicAuth\n",
    "\n",
    "\n",
    "headers = {\"Content-Type\": \"application/json\"}\n",
    "host = 'search-multimodal-search-test-gez3l2duqognw43jg4nkoevpyu.us-east-1.es.amazonaws.com'\n",
    "service = 'es'\n",
    "region = 'us-east-1' #example: \"us-east-1\"\n",
    "print(\"test1\")\n",
    "\n",
    "# 3.Use OpenSearch master credentials that you created while creating the OpenSearch domain\n",
    "awsauth = HTTPBasicAuth('admin','Labull@123')\n",
    "print(\"test\")\n",
    "\n",
    "#Initialise OpenSearch-py client\n",
    "aos_client = OpenSearch(\n",
    "    hosts = [{'host': host, 'port': 443}],\n",
    "    http_auth = awsauth,\n",
    "    use_ssl = True,\n",
    "    connection_class = RequestsHttpConnection\n",
    ")\n",
    "print(\"done\")"
   ],
   "outputs": [
    {
     "name": "stdout",
     "output_type": "stream",
     "text": []
    }
   ],
   "execution_count": 34
  },
  {
   "cell_type": "markdown",
   "id": "6b636855",
   "metadata": {},
   "source": [
    "## 2. Download the dataset (.gz) and extract the .gz file"
   ]
  },
  {
   "cell_type": "code",
   "id": "aca8ce36",
   "metadata": {
    "ExecuteTime": {
     "end_time": "2024-07-17T07:43:01.583219Z",
     "start_time": "2024-07-17T07:41:18.773155Z"
    }
   },
   "source": [
    "import os\n",
    "import urllib.request\n",
    "import tarfile\n",
    "\n",
    "os.makedirs('tmp/images', exist_ok = True)\n",
    "print(\"test1\")\n",
    "metadata_file = urllib.request.urlretrieve('https://aws-blogs-artifacts-public.s3.amazonaws.com/BDB-3144/products-data.yml', 'tmp/images/products.yaml')\n",
    "print(\"test2\")\n",
    "img_filename,headers= urllib.request.urlretrieve('https://aws-blogs-artifacts-public.s3.amazonaws.com/BDB-3144/images.tar.gz', 'tmp/images/images.tar.gz')              \n",
    "print(img_filename)\n",
    "file = tarfile.open('tmp/images/images.tar.gz')\n",
    "file.extractall('tmp/images/')\n",
    "file.close()\n",
    "#remove images.tar.gz\n",
    "os.remove('tmp/images/images.tar.gz')"
   ],
   "outputs": [
    {
     "name": "stdout",
     "output_type": "stream",
     "text": []
    },
    {
     "name": "stderr",
     "output_type": "stream",
     "text": []
    }
   ],
   "execution_count": 31
  },
  {
   "cell_type": "markdown",
   "id": "31b73212",
   "metadata": {},
   "source": [
    "# Do you have the model_id already ?"
   ]
  },
  {
   "cell_type": "code",
   "id": "80a08450",
   "metadata": {
    "ExecuteTime": {
     "end_time": "2024-07-17T07:44:16.431014Z",
     "start_time": "2024-07-17T07:44:16.424772Z"
    }
   },
   "source": [
    "import ipywidgets as widgets\n",
    "from ipywidgets import Dropdown\n",
    "\n",
    "model_id_selection = [\n",
    "    \"I have the model_id already from the cloudformation\",\n",
    "    \"I don't have the model_id already fromthe cloudformation\",\n",
    "]\n",
    "\n",
    "model_id_dropdown = widgets.Dropdown(\n",
    "    options=model_id_selection,\n",
    "    value=\"I have the model_id already from the cloudformation\",\n",
    "    description=\"Is model_id already created ?\",\n",
    "    style={\"description_width\": \"initial\"},\n",
    "    layout={\"width\": \"max-content\"},\n",
    ")\n",
    "\n",
    "display(model_id_dropdown)\n"
   ],
   "outputs": [
    {
     "data": {
      "text/plain": [
       "Dropdown(description='Is model_id already created ?', layout=Layout(width='max-content'), options=('I have the…"
      ],
      "application/vnd.jupyter.widget-view+json": {
       "version_major": 2,
       "version_minor": 0,
       "model_id": "799e990f64654e58825659ca5b8b3bfe"
      }
     },
     "metadata": {},
     "output_type": "display_data"
    }
   ],
   "execution_count": 35
  },
  {
   "cell_type": "code",
   "id": "2c7eb014",
   "metadata": {
    "ExecuteTime": {
     "end_time": "2024-07-17T07:43:10.340860Z",
     "start_time": "2024-07-17T07:43:01.589999Z"
    }
   },
   "source": [
    "if(model_id_dropdown.value == \"I have the model_id already from the cloudformation\"):\n",
    "    model_id = (input(\"Enter the model_id and press ENTER : \"))\n",
    "    print(\"model_id: \"+model_id)\n",
    "else:\n",
    "    model_id = \"\"\n",
    "    print(\"model_id: '' \\nCreate the model id by running next step\")"
   ],
   "outputs": [
    {
     "name": "stdout",
     "output_type": "stream",
     "text": [
      "model_id: tdavtZABntEAAVWbO_8N\n"
     ]
    }
   ],
   "execution_count": 33
  },
  {
   "cell_type": "markdown",
   "id": "7f2c5a23",
   "metadata": {},
   "source": [
    "# Run the below step 3 only if you DO NOT have the model_id \n",
    "\n",
    "# If you have the model_id already created from the cloudformation template, skip step 3 and proceed from step 4"
   ]
  },
  {
   "cell_type": "markdown",
   "id": "9f468131",
   "metadata": {
    "jp-MarkdownHeadingCollapsed": true
   },
   "source": [
    "## 3. Create the OpenSearch Bedrock ML connector\n",
    "\n",
    "you need to change **\"iam-role-arn\"** below with the ARN of the IAM role that has permissions to talk to OpenSearch and mapped as back-end role in OpenSearch dashboards"
   ]
  },
  {
   "cell_type": "code",
   "execution_count": null,
   "id": "7a113cb5",
   "metadata": {},
   "outputs": [],
   "source": [
    "# Register repository\n",
    "if(model_id == ''):\n",
    "    path = '_plugins/_ml/connectors/_create'\n",
    "    url = 'https://'+host + '/' + path\n",
    "\n",
    "    payload = {\n",
    "       \"name\": \"sagemaker: embedding\",\n",
    "       \"description\": \"Test connector for Sagemaker embedding model\",\n",
    "       \"version\": 1,\n",
    "       \"protocol\": \"aws_sigv4\",\n",
    "       \"credential\": {\n",
    "          \"roleArn\": \"<iam-role-arn>\"\n",
    "       },\n",
    "       \"parameters\": {\n",
    "          \"region\": region,\n",
    "          \"service_name\": \"bedrock\"\n",
    "       },\n",
    "       \"actions\": [\n",
    "          {\n",
    "             \"action_type\": \"predict\",\n",
    "             \"method\": \"POST\",\n",
    "           \"headers\": {\n",
    "            \"content-type\": \"application/json\",\n",
    "            \"x-amz-content-sha256\": \"required\"\n",
    "          },\n",
    "\n",
    "        \"url\": \"https://bedrock-runtime.\"+region+\".amazonaws.com/model/amazon.titan-embed-image-v1/invoke\",\n",
    "         \"request_body\": \"{ \\\"inputText\\\": \\\"${parameters.inputText:-null}\\\", \\\"inputImage\\\": \\\"${parameters.inputImage:-null}\\\" }\",\n",
    "          \"pre_process_function\": \"\\n    StringBuilder parametersBuilder = new StringBuilder(\\\"{\\\");\\n    if (params.text_docs.length > 0 && params.text_docs[0] != null) {\\n      parametersBuilder.append(\\\"\\\\\\\"inputText\\\\\\\":\\\");\\n      parametersBuilder.append(\\\"\\\\\\\"\\\");\\n      parametersBuilder.append(params.text_docs[0]);\\n      parametersBuilder.append(\\\"\\\\\\\"\\\");\\n      \\n      if (params.text_docs.length > 1 && params.text_docs[1] != null) {\\n        parametersBuilder.append(\\\",\\\");\\n      }\\n    }\\n    \\n    \\n    if (params.text_docs.length > 1 && params.text_docs[1] != null) {\\n      parametersBuilder.append(\\\"\\\\\\\"inputImage\\\\\\\":\\\");\\n      parametersBuilder.append(\\\"\\\\\\\"\\\");\\n      parametersBuilder.append(params.text_docs[1]);\\n      parametersBuilder.append(\\\"\\\\\\\"\\\");\\n    }\\n    parametersBuilder.append(\\\"}\\\");\\n    \\n    return  \\\"{\\\" +\\\"\\\\\\\"parameters\\\\\\\":\\\" + parametersBuilder + \\\"}\\\";\",\n",
    "          \"post_process_function\": \"\\n      def name = \\\"sentence_embedding\\\";\\n      def dataType = \\\"FLOAT32\\\";\\n      if (params.embedding == null || params.embedding.length == 0) {\\n          return null;\\n      }\\n      def shape = [params.embedding.length];\\n      def json = \\\"{\\\" +\\n                 \\\"\\\\\\\"name\\\\\\\":\\\\\\\"\\\" + name + \\\"\\\\\\\",\\\" +\\n                 \\\"\\\\\\\"data_type\\\\\\\":\\\\\\\"\\\" + dataType + \\\"\\\\\\\",\\\" +\\n                 \\\"\\\\\\\"shape\\\\\\\":\\\" + shape + \\\",\\\" +\\n                 \\\"\\\\\\\"data\\\\\\\":\\\" + params.embedding +\\n                 \\\"}\\\";\\n      return json;\\n    \"\n",
    "          }\n",
    "       ]\n",
    "    }\n",
    "    headers = {\"Content-Type\": \"application/json\"}\n",
    "\n",
    "    r = requests.post(url, auth=awsauth, json=payload, headers=headers)\n",
    "    print(r.status_code)\n",
    "    print(r.text)\n",
    "    connector_id = json.loads(r.text)[\"connector_id\"]\n",
    "\n",
    "    # Register the model\n",
    "    path = '_plugins/_ml/models/_register'\n",
    "    url = 'https://'+host + '/' + path\n",
    "    payload = { \"name\": \"Bedrock Multimodal embeddings model\",\n",
    "    \"function_name\": \"remote\",\n",
    "    \"description\": \"Bedrock Multimodal embeddings model\",\n",
    "    \"connector_id\": connector_id}\n",
    "    r = requests.post(url, auth=awsauth, json=payload, headers=headers)\n",
    "    model_id = json.loads(r.text)[\"model_id\"]\n",
    "    print(\"Model registered under model_id: \"+model_id)\n",
    "\n",
    "    # Deploy the model\n",
    "    path = '_plugins/_ml/models/'+model_id+'/_deploy'\n",
    "    url = 'https://'+host + '/' + path\n",
    "    r = requests.post(url, auth=awsauth, headers=headers)\n",
    "    deploy_status = json.loads(r.text)[\"status\"]\n",
    "    print(\"Deployment status of the model, \"+model_id+\" : \"+deploy_status)\n"
   ]
  },
  {
   "cell_type": "markdown",
   "id": "852500c8",
   "metadata": {},
   "source": [
    "## 4. Test the OpenSearch - Bedrock integration with a test input"
   ]
  },
  {
   "cell_type": "code",
   "id": "39fac4d6",
   "metadata": {
    "ExecuteTime": {
     "end_time": "2024-07-17T07:44:31.654653Z",
     "start_time": "2024-07-17T07:44:31.598431Z"
    }
   },
   "source": [
    "import base64\n",
    "\n",
    "path = '_plugins/_ml/models/'+model_id+'/_predict'\n",
    "url = host + '/' + path\n",
    "img = \"tmp/images/footwear/2d2d8ec8-4806-42a7-b8ba-ceb15c1c7e84.jpg\"\n",
    "with open(img, \"rb\") as image_file:\n",
    "    input_image_binary = base64.b64encode(image_file.read()).decode(\"utf8\")\n",
    "print(image_file)\n",
    "payload = {\n",
    "\"parameters\": {\n",
    "\"inputText\": \"Sleek, stylish black sneakers made for urban exploration. With fashionable looks and comfortable design, these sneakers keep your feet looking great while you walk the city streets in style\",\n",
    "\"inputImage\":input_image_binary\n",
    "}\n",
    "}\n",
    "try:\n",
    "    r = requests.post(url, auth=awsauth, json=payload, headers=headers)\n",
    "    print(r)\n",
    "    embed = json.loads(r.text)['inference_results'][0]['output'][0]['data'][0:10]\n",
    "    shape = json.loads(r.text)['inference_results'][0]['output'][0]['shape'][0]\n",
    "    print(\"First 10 dimensions:\")\n",
    "    print(str(embed))\n",
    "    print(\"\\n\")\n",
    "    print(\"Total: \"+str(shape)+\" dimensions\")\n",
    "except json.JSONDecodeError as e:\n",
    "    print(\"Failed to decode JSON response\")\n",
    "    print(e)\n",
    "except KeyError as e:\n",
    "    print(f\"KeyError: {e}\")"
   ],
   "outputs": [
    {
     "name": "stdout",
     "output_type": "stream",
     "text": []
    },
    {
     "ename": "MissingSchema",
     "evalue": "Invalid URL 'search-multimodal-search-test-gez3l2duqognw43jg4nkoevpyu.us-east-1.es.amazonaws.com/_plugins/_ml/models/tdavtZABntEAAVWbO_8N/_predict': No scheme supplied. Perhaps you meant https://search-multimodal-search-test-gez3l2duqognw43jg4nkoevpyu.us-east-1.es.amazonaws.com/_plugins/_ml/models/tdavtZABntEAAVWbO_8N/_predict?",
     "output_type": "error",
     "traceback": [
      "\u001B[1;31m---------------------------------------------------------------------------\u001B[0m",
      "\u001B[1;31mMissingSchema\u001B[0m                             Traceback (most recent call last)",
      "Cell \u001B[1;32mIn[36], line 16\u001B[0m\n\u001B[0;32m      9\u001B[0m payload \u001B[38;5;241m=\u001B[39m {\n\u001B[0;32m     10\u001B[0m \u001B[38;5;124m\"\u001B[39m\u001B[38;5;124mparameters\u001B[39m\u001B[38;5;124m\"\u001B[39m: {\n\u001B[0;32m     11\u001B[0m \u001B[38;5;124m\"\u001B[39m\u001B[38;5;124minputText\u001B[39m\u001B[38;5;124m\"\u001B[39m: \u001B[38;5;124m\"\u001B[39m\u001B[38;5;124mSleek, stylish black sneakers made for urban exploration. With fashionable looks and comfortable design, these sneakers keep your feet looking great while you walk the city streets in style\u001B[39m\u001B[38;5;124m\"\u001B[39m,\n\u001B[0;32m     12\u001B[0m \u001B[38;5;124m\"\u001B[39m\u001B[38;5;124minputImage\u001B[39m\u001B[38;5;124m\"\u001B[39m:input_image_binary\n\u001B[0;32m     13\u001B[0m }\n\u001B[0;32m     14\u001B[0m }\n\u001B[0;32m     15\u001B[0m \u001B[38;5;28;01mtry\u001B[39;00m:\n\u001B[1;32m---> 16\u001B[0m     r \u001B[38;5;241m=\u001B[39m requests\u001B[38;5;241m.\u001B[39mpost(url, auth\u001B[38;5;241m=\u001B[39mawsauth, json\u001B[38;5;241m=\u001B[39mpayload, headers\u001B[38;5;241m=\u001B[39mheaders)\n\u001B[0;32m     17\u001B[0m     \u001B[38;5;28mprint\u001B[39m(r)\n\u001B[0;32m     18\u001B[0m     embed \u001B[38;5;241m=\u001B[39m json\u001B[38;5;241m.\u001B[39mloads(r\u001B[38;5;241m.\u001B[39mtext)[\u001B[38;5;124m'\u001B[39m\u001B[38;5;124minference_results\u001B[39m\u001B[38;5;124m'\u001B[39m][\u001B[38;5;241m0\u001B[39m][\u001B[38;5;124m'\u001B[39m\u001B[38;5;124moutput\u001B[39m\u001B[38;5;124m'\u001B[39m][\u001B[38;5;241m0\u001B[39m][\u001B[38;5;124m'\u001B[39m\u001B[38;5;124mdata\u001B[39m\u001B[38;5;124m'\u001B[39m][\u001B[38;5;241m0\u001B[39m:\u001B[38;5;241m10\u001B[39m]\n",
      "File \u001B[1;32mD:\\Develop\\Anaconda\\Lib\\site-packages\\requests\\api.py:115\u001B[0m, in \u001B[0;36mpost\u001B[1;34m(url, data, json, **kwargs)\u001B[0m\n\u001B[0;32m    103\u001B[0m \u001B[38;5;28;01mdef\u001B[39;00m \u001B[38;5;21mpost\u001B[39m(url, data\u001B[38;5;241m=\u001B[39m\u001B[38;5;28;01mNone\u001B[39;00m, json\u001B[38;5;241m=\u001B[39m\u001B[38;5;28;01mNone\u001B[39;00m, \u001B[38;5;241m*\u001B[39m\u001B[38;5;241m*\u001B[39mkwargs):\n\u001B[0;32m    104\u001B[0m \u001B[38;5;250m    \u001B[39m\u001B[38;5;124mr\u001B[39m\u001B[38;5;124;03m\"\"\"Sends a POST request.\u001B[39;00m\n\u001B[0;32m    105\u001B[0m \n\u001B[0;32m    106\u001B[0m \u001B[38;5;124;03m    :param url: URL for the new :class:`Request` object.\u001B[39;00m\n\u001B[1;32m   (...)\u001B[0m\n\u001B[0;32m    112\u001B[0m \u001B[38;5;124;03m    :rtype: requests.Response\u001B[39;00m\n\u001B[0;32m    113\u001B[0m \u001B[38;5;124;03m    \"\"\"\u001B[39;00m\n\u001B[1;32m--> 115\u001B[0m     \u001B[38;5;28;01mreturn\u001B[39;00m request(\u001B[38;5;124m\"\u001B[39m\u001B[38;5;124mpost\u001B[39m\u001B[38;5;124m\"\u001B[39m, url, data\u001B[38;5;241m=\u001B[39mdata, json\u001B[38;5;241m=\u001B[39mjson, \u001B[38;5;241m*\u001B[39m\u001B[38;5;241m*\u001B[39mkwargs)\n",
      "File \u001B[1;32mD:\\Develop\\Anaconda\\Lib\\site-packages\\requests\\api.py:59\u001B[0m, in \u001B[0;36mrequest\u001B[1;34m(method, url, **kwargs)\u001B[0m\n\u001B[0;32m     55\u001B[0m \u001B[38;5;66;03m# By using the 'with' statement we are sure the session is closed, thus we\u001B[39;00m\n\u001B[0;32m     56\u001B[0m \u001B[38;5;66;03m# avoid leaving sockets open which can trigger a ResourceWarning in some\u001B[39;00m\n\u001B[0;32m     57\u001B[0m \u001B[38;5;66;03m# cases, and look like a memory leak in others.\u001B[39;00m\n\u001B[0;32m     58\u001B[0m \u001B[38;5;28;01mwith\u001B[39;00m sessions\u001B[38;5;241m.\u001B[39mSession() \u001B[38;5;28;01mas\u001B[39;00m session:\n\u001B[1;32m---> 59\u001B[0m     \u001B[38;5;28;01mreturn\u001B[39;00m session\u001B[38;5;241m.\u001B[39mrequest(method\u001B[38;5;241m=\u001B[39mmethod, url\u001B[38;5;241m=\u001B[39murl, \u001B[38;5;241m*\u001B[39m\u001B[38;5;241m*\u001B[39mkwargs)\n",
      "File \u001B[1;32mD:\\Develop\\Anaconda\\Lib\\site-packages\\requests\\sessions.py:575\u001B[0m, in \u001B[0;36mSession.request\u001B[1;34m(self, method, url, params, data, headers, cookies, files, auth, timeout, allow_redirects, proxies, hooks, stream, verify, cert, json)\u001B[0m\n\u001B[0;32m    562\u001B[0m \u001B[38;5;66;03m# Create the Request.\u001B[39;00m\n\u001B[0;32m    563\u001B[0m req \u001B[38;5;241m=\u001B[39m Request(\n\u001B[0;32m    564\u001B[0m     method\u001B[38;5;241m=\u001B[39mmethod\u001B[38;5;241m.\u001B[39mupper(),\n\u001B[0;32m    565\u001B[0m     url\u001B[38;5;241m=\u001B[39murl,\n\u001B[1;32m   (...)\u001B[0m\n\u001B[0;32m    573\u001B[0m     hooks\u001B[38;5;241m=\u001B[39mhooks,\n\u001B[0;32m    574\u001B[0m )\n\u001B[1;32m--> 575\u001B[0m prep \u001B[38;5;241m=\u001B[39m \u001B[38;5;28mself\u001B[39m\u001B[38;5;241m.\u001B[39mprepare_request(req)\n\u001B[0;32m    577\u001B[0m proxies \u001B[38;5;241m=\u001B[39m proxies \u001B[38;5;129;01mor\u001B[39;00m {}\n\u001B[0;32m    579\u001B[0m settings \u001B[38;5;241m=\u001B[39m \u001B[38;5;28mself\u001B[39m\u001B[38;5;241m.\u001B[39mmerge_environment_settings(\n\u001B[0;32m    580\u001B[0m     prep\u001B[38;5;241m.\u001B[39murl, proxies, stream, verify, cert\n\u001B[0;32m    581\u001B[0m )\n",
      "File \u001B[1;32mD:\\Develop\\Anaconda\\Lib\\site-packages\\requests\\sessions.py:484\u001B[0m, in \u001B[0;36mSession.prepare_request\u001B[1;34m(self, request)\u001B[0m\n\u001B[0;32m    481\u001B[0m     auth \u001B[38;5;241m=\u001B[39m get_netrc_auth(request\u001B[38;5;241m.\u001B[39murl)\n\u001B[0;32m    483\u001B[0m p \u001B[38;5;241m=\u001B[39m PreparedRequest()\n\u001B[1;32m--> 484\u001B[0m p\u001B[38;5;241m.\u001B[39mprepare(\n\u001B[0;32m    485\u001B[0m     method\u001B[38;5;241m=\u001B[39mrequest\u001B[38;5;241m.\u001B[39mmethod\u001B[38;5;241m.\u001B[39mupper(),\n\u001B[0;32m    486\u001B[0m     url\u001B[38;5;241m=\u001B[39mrequest\u001B[38;5;241m.\u001B[39murl,\n\u001B[0;32m    487\u001B[0m     files\u001B[38;5;241m=\u001B[39mrequest\u001B[38;5;241m.\u001B[39mfiles,\n\u001B[0;32m    488\u001B[0m     data\u001B[38;5;241m=\u001B[39mrequest\u001B[38;5;241m.\u001B[39mdata,\n\u001B[0;32m    489\u001B[0m     json\u001B[38;5;241m=\u001B[39mrequest\u001B[38;5;241m.\u001B[39mjson,\n\u001B[0;32m    490\u001B[0m     headers\u001B[38;5;241m=\u001B[39mmerge_setting(\n\u001B[0;32m    491\u001B[0m         request\u001B[38;5;241m.\u001B[39mheaders, \u001B[38;5;28mself\u001B[39m\u001B[38;5;241m.\u001B[39mheaders, dict_class\u001B[38;5;241m=\u001B[39mCaseInsensitiveDict\n\u001B[0;32m    492\u001B[0m     ),\n\u001B[0;32m    493\u001B[0m     params\u001B[38;5;241m=\u001B[39mmerge_setting(request\u001B[38;5;241m.\u001B[39mparams, \u001B[38;5;28mself\u001B[39m\u001B[38;5;241m.\u001B[39mparams),\n\u001B[0;32m    494\u001B[0m     auth\u001B[38;5;241m=\u001B[39mmerge_setting(auth, \u001B[38;5;28mself\u001B[39m\u001B[38;5;241m.\u001B[39mauth),\n\u001B[0;32m    495\u001B[0m     cookies\u001B[38;5;241m=\u001B[39mmerged_cookies,\n\u001B[0;32m    496\u001B[0m     hooks\u001B[38;5;241m=\u001B[39mmerge_hooks(request\u001B[38;5;241m.\u001B[39mhooks, \u001B[38;5;28mself\u001B[39m\u001B[38;5;241m.\u001B[39mhooks),\n\u001B[0;32m    497\u001B[0m )\n\u001B[0;32m    498\u001B[0m \u001B[38;5;28;01mreturn\u001B[39;00m p\n",
      "File \u001B[1;32mD:\\Develop\\Anaconda\\Lib\\site-packages\\requests\\models.py:367\u001B[0m, in \u001B[0;36mPreparedRequest.prepare\u001B[1;34m(self, method, url, headers, files, data, params, auth, cookies, hooks, json)\u001B[0m\n\u001B[0;32m    364\u001B[0m \u001B[38;5;250m\u001B[39m\u001B[38;5;124;03m\"\"\"Prepares the entire request with the given parameters.\"\"\"\u001B[39;00m\n\u001B[0;32m    366\u001B[0m \u001B[38;5;28mself\u001B[39m\u001B[38;5;241m.\u001B[39mprepare_method(method)\n\u001B[1;32m--> 367\u001B[0m \u001B[38;5;28mself\u001B[39m\u001B[38;5;241m.\u001B[39mprepare_url(url, params)\n\u001B[0;32m    368\u001B[0m \u001B[38;5;28mself\u001B[39m\u001B[38;5;241m.\u001B[39mprepare_headers(headers)\n\u001B[0;32m    369\u001B[0m \u001B[38;5;28mself\u001B[39m\u001B[38;5;241m.\u001B[39mprepare_cookies(cookies)\n",
      "File \u001B[1;32mD:\\Develop\\Anaconda\\Lib\\site-packages\\requests\\models.py:438\u001B[0m, in \u001B[0;36mPreparedRequest.prepare_url\u001B[1;34m(self, url, params)\u001B[0m\n\u001B[0;32m    435\u001B[0m     \u001B[38;5;28;01mraise\u001B[39;00m InvalidURL(\u001B[38;5;241m*\u001B[39me\u001B[38;5;241m.\u001B[39margs)\n\u001B[0;32m    437\u001B[0m \u001B[38;5;28;01mif\u001B[39;00m \u001B[38;5;129;01mnot\u001B[39;00m scheme:\n\u001B[1;32m--> 438\u001B[0m     \u001B[38;5;28;01mraise\u001B[39;00m MissingSchema(\n\u001B[0;32m    439\u001B[0m         \u001B[38;5;124mf\u001B[39m\u001B[38;5;124m\"\u001B[39m\u001B[38;5;124mInvalid URL \u001B[39m\u001B[38;5;132;01m{\u001B[39;00murl\u001B[38;5;132;01m!r}\u001B[39;00m\u001B[38;5;124m: No scheme supplied. \u001B[39m\u001B[38;5;124m\"\u001B[39m\n\u001B[0;32m    440\u001B[0m         \u001B[38;5;124mf\u001B[39m\u001B[38;5;124m\"\u001B[39m\u001B[38;5;124mPerhaps you meant https://\u001B[39m\u001B[38;5;132;01m{\u001B[39;00murl\u001B[38;5;132;01m}\u001B[39;00m\u001B[38;5;124m?\u001B[39m\u001B[38;5;124m\"\u001B[39m\n\u001B[0;32m    441\u001B[0m     )\n\u001B[0;32m    443\u001B[0m \u001B[38;5;28;01mif\u001B[39;00m \u001B[38;5;129;01mnot\u001B[39;00m host:\n\u001B[0;32m    444\u001B[0m     \u001B[38;5;28;01mraise\u001B[39;00m InvalidURL(\u001B[38;5;124mf\u001B[39m\u001B[38;5;124m\"\u001B[39m\u001B[38;5;124mInvalid URL \u001B[39m\u001B[38;5;132;01m{\u001B[39;00murl\u001B[38;5;132;01m!r}\u001B[39;00m\u001B[38;5;124m: No host supplied\u001B[39m\u001B[38;5;124m\"\u001B[39m)\n",
      "\u001B[1;31mMissingSchema\u001B[0m: Invalid URL 'search-multimodal-search-test-gez3l2duqognw43jg4nkoevpyu.us-east-1.es.amazonaws.com/_plugins/_ml/models/tdavtZABntEAAVWbO_8N/_predict': No scheme supplied. Perhaps you meant https://search-multimodal-search-test-gez3l2duqognw43jg4nkoevpyu.us-east-1.es.amazonaws.com/_plugins/_ml/models/tdavtZABntEAAVWbO_8N/_predict?"
     ]
    }
   ],
   "execution_count": 36
  },
  {
   "cell_type": "markdown",
   "id": "05cd7e48",
   "metadata": {},
   "source": [
    "## 5. Create the OpenSearch ingest pipeline"
   ]
  },
  {
   "cell_type": "code",
   "id": "5951fc54",
   "metadata": {
    "ExecuteTime": {
     "end_time": "2024-07-17T07:45:56.799769Z",
     "start_time": "2024-07-17T07:45:55.693899Z"
    }
   },
   "source": [
    "path = \"_ingest/pipeline/bedrock-multimodal-ingest-pipeline\"\n",
    "url = 'https://'+host + '/' + path\n",
    "payload = {\n",
    "\"description\": \"A text/image embedding pipeline\",\n",
    "\"processors\": [\n",
    "{\n",
    "\"text_image_embedding\": {\n",
    "\"model_id\":model_id,\n",
    "\"embedding\": \"vector_embedding\",\n",
    "\"field_map\": {\n",
    "\"text\": \"product_description\",\n",
    "\"image\": \"image_binary\"\n",
    "}}}]}\n",
    "r = requests.put(url, auth=awsauth, json=payload, headers=headers)\n",
    "print(r.status_code)\n",
    "print(r.text)"
   ],
   "outputs": [
    {
     "name": "stdout",
     "output_type": "stream",
     "text": []
    }
   ],
   "execution_count": 37
  },
  {
   "cell_type": "markdown",
   "id": "2f358ebf",
   "metadata": {},
   "source": [
    "## 6. Create the k-NN index"
   ]
  },
  {
   "cell_type": "code",
   "id": "6f85afd1",
   "metadata": {
    "ExecuteTime": {
     "end_time": "2024-07-17T07:46:23.037660Z",
     "start_time": "2024-07-17T07:46:19.979877Z"
    }
   },
   "source": [
    "path = \"bedrock-multimodal-demostore-search-index\"\n",
    "url = 'https://'+host + '/' + path\n",
    "\n",
    "#this will delete the index if already exists\n",
    "requests.delete(url, auth=awsauth, json=payload, headers=headers)\n",
    "\n",
    "payload = {\n",
    "  \"settings\": {\n",
    "    \"index.knn\": True,\n",
    "    \"default_pipeline\": \"bedrock-multimodal-ingest-pipeline\"\n",
    "  },\n",
    "  \"mappings\": {\n",
    "      \n",
    "    \"_source\": {\n",
    "     \n",
    "      \"excludes\": [\"image_binary\"]\n",
    "    },\n",
    "    \"properties\": {\n",
    "      \"vector_embedding\": {\n",
    "        \"type\": \"knn_vector\",\n",
    "        \"dimension\": shape,\n",
    "        \"method\": {\n",
    "          \"name\": \"hnsw\",\n",
    "          \"engine\": \"faiss\",\n",
    "          \"parameters\": {}\n",
    "        }\n",
    "      },\n",
    "      \"product_description\": {\n",
    "        \"type\": \"text\"\n",
    "      },\n",
    "        \"image_url\": {\n",
    "        \"type\": \"text\"\n",
    "      },\n",
    "      \"image_binary\": {\n",
    "        \"type\": \"binary\"\n",
    "      },\n",
    "      \"piece_id\": {\n",
    "        \"type\": \"text\"\n",
    "      },\n",
    "      \"product_type\": {\n",
    "        \"type\": \"text\"\n",
    "      },\n",
    "      \"needle_type\": {\n",
    "        \"type\": \"text\"\n",
    "      },\n",
    "    }\n",
    "  }\n",
    "}\n",
    "r = requests.put(url, auth=awsauth, json=payload, headers=headers)\n",
    "print(r.status_code)\n",
    "print(r.text)"
   ],
   "outputs": [
    {
     "name": "stdout",
     "output_type": "stream",
     "text": []
    }
   ],
   "execution_count": 39
  },
  {
   "metadata": {},
   "cell_type": "markdown",
   "source": [
    "\n",
    "## 7. Ingest the dataset into k-NN index usig Bulk request"
   ],
   "id": "f42df6cf"
  },
  {
   "cell_type": "code",
   "id": "ceea00f0",
   "metadata": {
    "scrolled": true,
    "ExecuteTime": {
     "end_time": "2024-07-17T07:47:35.703849Z",
     "start_time": "2024-07-17T07:47:18.723174Z"
    }
   },
   "source": [
    "from ruamel.yaml import YAML\n",
    "from PIL import Image\n",
    "import os\n",
    "from opensearchpy import OpenSearch, RequestsHttpConnection, AWSV4SignerAuth\n",
    "\n",
    "def resize_image(photo, width, height):\n",
    "    Image.MAX_IMAGE_PIXELS = 100000000\n",
    "    \n",
    "    with Image.open(photo) as image:\n",
    "        image.verify()\n",
    "    with Image.open(photo) as image:    \n",
    "        \n",
    "        if image.format in [\"JPEG\", \"PNG\"]:\n",
    "            file_type = image.format.lower()\n",
    "            path = image.filename.rsplit(\".\", 1)[0]\n",
    "\n",
    "            image.thumbnail((width, height))\n",
    "            image.save(f\"{path}-resized.{file_type}\")\n",
    "    return file_type, path\n",
    "\n",
    "# Load the products from the dataset\n",
    "yaml = YAML()\n",
    "items_ = yaml.load(open('tmp/images/products.yaml'))\n",
    "\n",
    "batch = 0\n",
    "count = 0\n",
    "body_ = ''\n",
    "batch_size = 100\n",
    "last_batch = int(len(items_)/batch_size)\n",
    "action = json.dumps({ 'index': { '_index': 'bedrock-multimodal-demostore-search-index' } })\n",
    "\n",
    "for item in items_:\n",
    "    count+=1\n",
    "    fileshort = \"tmp/images/\"+item[\"category\"]+\"/\"+item[\"image\"]\n",
    "    payload = {}\n",
    "    payload['image_url'] = fileshort\n",
    "    payload['product_description'] = item['description']\n",
    "    # payload['needle_type'] = item['needle_type']\n",
    "    \n",
    "    #resize the image and generate image binary\n",
    "    file_type, path = resize_image(fileshort, 2048, 2048)\n",
    "\n",
    "    with open(fileshort.split(\".\")[0]+\"-resized.\"+file_type, \"rb\") as image_file:\n",
    "        input_image = base64.b64encode(image_file.read()).decode(\"utf8\")\n",
    "    \n",
    "    os.remove(fileshort.split(\".\")[0]+\"-resized.\"+file_type)\n",
    "    payload['image_binary'] = input_image\n",
    "    \n",
    "    body_ = body_ + action + \"\\n\" + json.dumps(payload) + \"\\n\"\n",
    "    \n",
    "    if(count == batch_size):\n",
    "        response = aos_client.bulk(\n",
    "        index = 'bedrock-multimodal-demostore-search-index',\n",
    "        body = body_\n",
    "        )\n",
    "        batch += 1\n",
    "        count = 0\n",
    "        print(\"batch \"+str(batch) + \" ingestion done!\")\n",
    "        if(batch != last_batch):\n",
    "            body_ = \"\"\n",
    "        \n",
    "            \n",
    "#ingest the remaining rows\n",
    "response = aos_client.bulk(\n",
    "        index = 'bedrock-multimodal-demostore-search-index',\n",
    "        body = body_\n",
    "        )\n",
    "        \n",
    "print(\"All \"+str(last_batch)+\" batches ingested into index\")\n"
   ],
   "outputs": [
    {
     "ename": "ConnectionTimeout",
     "evalue": "ConnectionTimeout caused by - ReadTimeout(HTTPSConnectionPool(host='search-multimodal-search-test-gez3l2duqognw43jg4nkoevpyu.us-east-1.es.amazonaws.com', port=443): Read timed out. (read timeout=10))",
     "output_type": "error",
     "traceback": [
      "\u001B[1;31m---------------------------------------------------------------------------\u001B[0m",
      "\u001B[1;31mTimeoutError\u001B[0m                              Traceback (most recent call last)",
      "File \u001B[1;32mD:\\Develop\\Anaconda\\Lib\\site-packages\\urllib3\\connectionpool.py:536\u001B[0m, in \u001B[0;36mHTTPConnectionPool._make_request\u001B[1;34m(self, conn, method, url, body, headers, retries, timeout, chunked, response_conn, preload_content, decode_content, enforce_content_length)\u001B[0m\n\u001B[0;32m    535\u001B[0m \u001B[38;5;28;01mtry\u001B[39;00m:\n\u001B[1;32m--> 536\u001B[0m     response \u001B[38;5;241m=\u001B[39m conn\u001B[38;5;241m.\u001B[39mgetresponse()\n\u001B[0;32m    537\u001B[0m \u001B[38;5;28;01mexcept\u001B[39;00m (BaseSSLError, \u001B[38;5;167;01mOSError\u001B[39;00m) \u001B[38;5;28;01mas\u001B[39;00m e:\n",
      "File \u001B[1;32mD:\\Develop\\Anaconda\\Lib\\site-packages\\urllib3\\connection.py:464\u001B[0m, in \u001B[0;36mHTTPConnection.getresponse\u001B[1;34m(self)\u001B[0m\n\u001B[0;32m    463\u001B[0m \u001B[38;5;66;03m# Get the response from http.client.HTTPConnection\u001B[39;00m\n\u001B[1;32m--> 464\u001B[0m httplib_response \u001B[38;5;241m=\u001B[39m \u001B[38;5;28msuper\u001B[39m()\u001B[38;5;241m.\u001B[39mgetresponse()\n\u001B[0;32m    466\u001B[0m \u001B[38;5;28;01mtry\u001B[39;00m:\n",
      "File \u001B[1;32mD:\\Develop\\Anaconda\\Lib\\http\\client.py:1428\u001B[0m, in \u001B[0;36mHTTPConnection.getresponse\u001B[1;34m(self)\u001B[0m\n\u001B[0;32m   1427\u001B[0m \u001B[38;5;28;01mtry\u001B[39;00m:\n\u001B[1;32m-> 1428\u001B[0m     response\u001B[38;5;241m.\u001B[39mbegin()\n\u001B[0;32m   1429\u001B[0m \u001B[38;5;28;01mexcept\u001B[39;00m \u001B[38;5;167;01mConnectionError\u001B[39;00m:\n",
      "File \u001B[1;32mD:\\Develop\\Anaconda\\Lib\\http\\client.py:331\u001B[0m, in \u001B[0;36mHTTPResponse.begin\u001B[1;34m(self)\u001B[0m\n\u001B[0;32m    330\u001B[0m \u001B[38;5;28;01mwhile\u001B[39;00m \u001B[38;5;28;01mTrue\u001B[39;00m:\n\u001B[1;32m--> 331\u001B[0m     version, status, reason \u001B[38;5;241m=\u001B[39m \u001B[38;5;28mself\u001B[39m\u001B[38;5;241m.\u001B[39m_read_status()\n\u001B[0;32m    332\u001B[0m     \u001B[38;5;28;01mif\u001B[39;00m status \u001B[38;5;241m!=\u001B[39m CONTINUE:\n",
      "File \u001B[1;32mD:\\Develop\\Anaconda\\Lib\\http\\client.py:292\u001B[0m, in \u001B[0;36mHTTPResponse._read_status\u001B[1;34m(self)\u001B[0m\n\u001B[0;32m    291\u001B[0m \u001B[38;5;28;01mdef\u001B[39;00m \u001B[38;5;21m_read_status\u001B[39m(\u001B[38;5;28mself\u001B[39m):\n\u001B[1;32m--> 292\u001B[0m     line \u001B[38;5;241m=\u001B[39m \u001B[38;5;28mstr\u001B[39m(\u001B[38;5;28mself\u001B[39m\u001B[38;5;241m.\u001B[39mfp\u001B[38;5;241m.\u001B[39mreadline(_MAXLINE \u001B[38;5;241m+\u001B[39m \u001B[38;5;241m1\u001B[39m), \u001B[38;5;124m\"\u001B[39m\u001B[38;5;124miso-8859-1\u001B[39m\u001B[38;5;124m\"\u001B[39m)\n\u001B[0;32m    293\u001B[0m     \u001B[38;5;28;01mif\u001B[39;00m \u001B[38;5;28mlen\u001B[39m(line) \u001B[38;5;241m>\u001B[39m _MAXLINE:\n",
      "File \u001B[1;32mD:\\Develop\\Anaconda\\Lib\\socket.py:708\u001B[0m, in \u001B[0;36mSocketIO.readinto\u001B[1;34m(self, b)\u001B[0m\n\u001B[0;32m    707\u001B[0m \u001B[38;5;28;01mtry\u001B[39;00m:\n\u001B[1;32m--> 708\u001B[0m     \u001B[38;5;28;01mreturn\u001B[39;00m \u001B[38;5;28mself\u001B[39m\u001B[38;5;241m.\u001B[39m_sock\u001B[38;5;241m.\u001B[39mrecv_into(b)\n\u001B[0;32m    709\u001B[0m \u001B[38;5;28;01mexcept\u001B[39;00m timeout:\n",
      "File \u001B[1;32mD:\\Develop\\Anaconda\\Lib\\ssl.py:1252\u001B[0m, in \u001B[0;36mSSLSocket.recv_into\u001B[1;34m(self, buffer, nbytes, flags)\u001B[0m\n\u001B[0;32m   1249\u001B[0m         \u001B[38;5;28;01mraise\u001B[39;00m \u001B[38;5;167;01mValueError\u001B[39;00m(\n\u001B[0;32m   1250\u001B[0m           \u001B[38;5;124m\"\u001B[39m\u001B[38;5;124mnon-zero flags not allowed in calls to recv_into() on \u001B[39m\u001B[38;5;132;01m%s\u001B[39;00m\u001B[38;5;124m\"\u001B[39m \u001B[38;5;241m%\u001B[39m\n\u001B[0;32m   1251\u001B[0m           \u001B[38;5;28mself\u001B[39m\u001B[38;5;241m.\u001B[39m\u001B[38;5;18m__class__\u001B[39m)\n\u001B[1;32m-> 1252\u001B[0m     \u001B[38;5;28;01mreturn\u001B[39;00m \u001B[38;5;28mself\u001B[39m\u001B[38;5;241m.\u001B[39mread(nbytes, buffer)\n\u001B[0;32m   1253\u001B[0m \u001B[38;5;28;01melse\u001B[39;00m:\n",
      "File \u001B[1;32mD:\\Develop\\Anaconda\\Lib\\ssl.py:1104\u001B[0m, in \u001B[0;36mSSLSocket.read\u001B[1;34m(self, len, buffer)\u001B[0m\n\u001B[0;32m   1103\u001B[0m \u001B[38;5;28;01mif\u001B[39;00m buffer \u001B[38;5;129;01mis\u001B[39;00m \u001B[38;5;129;01mnot\u001B[39;00m \u001B[38;5;28;01mNone\u001B[39;00m:\n\u001B[1;32m-> 1104\u001B[0m     \u001B[38;5;28;01mreturn\u001B[39;00m \u001B[38;5;28mself\u001B[39m\u001B[38;5;241m.\u001B[39m_sslobj\u001B[38;5;241m.\u001B[39mread(\u001B[38;5;28mlen\u001B[39m, buffer)\n\u001B[0;32m   1105\u001B[0m \u001B[38;5;28;01melse\u001B[39;00m:\n",
      "\u001B[1;31mTimeoutError\u001B[0m: The read operation timed out",
      "\nThe above exception was the direct cause of the following exception:\n",
      "\u001B[1;31mReadTimeoutError\u001B[0m                          Traceback (most recent call last)",
      "File \u001B[1;32mD:\\Develop\\Anaconda\\Lib\\site-packages\\requests\\adapters.py:589\u001B[0m, in \u001B[0;36mHTTPAdapter.send\u001B[1;34m(self, request, stream, timeout, verify, cert, proxies)\u001B[0m\n\u001B[0;32m    588\u001B[0m \u001B[38;5;28;01mtry\u001B[39;00m:\n\u001B[1;32m--> 589\u001B[0m     resp \u001B[38;5;241m=\u001B[39m conn\u001B[38;5;241m.\u001B[39murlopen(\n\u001B[0;32m    590\u001B[0m         method\u001B[38;5;241m=\u001B[39mrequest\u001B[38;5;241m.\u001B[39mmethod,\n\u001B[0;32m    591\u001B[0m         url\u001B[38;5;241m=\u001B[39murl,\n\u001B[0;32m    592\u001B[0m         body\u001B[38;5;241m=\u001B[39mrequest\u001B[38;5;241m.\u001B[39mbody,\n\u001B[0;32m    593\u001B[0m         headers\u001B[38;5;241m=\u001B[39mrequest\u001B[38;5;241m.\u001B[39mheaders,\n\u001B[0;32m    594\u001B[0m         redirect\u001B[38;5;241m=\u001B[39m\u001B[38;5;28;01mFalse\u001B[39;00m,\n\u001B[0;32m    595\u001B[0m         assert_same_host\u001B[38;5;241m=\u001B[39m\u001B[38;5;28;01mFalse\u001B[39;00m,\n\u001B[0;32m    596\u001B[0m         preload_content\u001B[38;5;241m=\u001B[39m\u001B[38;5;28;01mFalse\u001B[39;00m,\n\u001B[0;32m    597\u001B[0m         decode_content\u001B[38;5;241m=\u001B[39m\u001B[38;5;28;01mFalse\u001B[39;00m,\n\u001B[0;32m    598\u001B[0m         retries\u001B[38;5;241m=\u001B[39m\u001B[38;5;28mself\u001B[39m\u001B[38;5;241m.\u001B[39mmax_retries,\n\u001B[0;32m    599\u001B[0m         timeout\u001B[38;5;241m=\u001B[39mtimeout,\n\u001B[0;32m    600\u001B[0m         chunked\u001B[38;5;241m=\u001B[39mchunked,\n\u001B[0;32m    601\u001B[0m     )\n\u001B[0;32m    603\u001B[0m \u001B[38;5;28;01mexcept\u001B[39;00m (ProtocolError, \u001B[38;5;167;01mOSError\u001B[39;00m) \u001B[38;5;28;01mas\u001B[39;00m err:\n",
      "File \u001B[1;32mD:\\Develop\\Anaconda\\Lib\\site-packages\\urllib3\\connectionpool.py:843\u001B[0m, in \u001B[0;36mHTTPConnectionPool.urlopen\u001B[1;34m(self, method, url, body, headers, retries, redirect, assert_same_host, timeout, pool_timeout, release_conn, chunked, body_pos, preload_content, decode_content, **response_kw)\u001B[0m\n\u001B[0;32m    841\u001B[0m     new_e \u001B[38;5;241m=\u001B[39m ProtocolError(\u001B[38;5;124m\"\u001B[39m\u001B[38;5;124mConnection aborted.\u001B[39m\u001B[38;5;124m\"\u001B[39m, new_e)\n\u001B[1;32m--> 843\u001B[0m retries \u001B[38;5;241m=\u001B[39m retries\u001B[38;5;241m.\u001B[39mincrement(\n\u001B[0;32m    844\u001B[0m     method, url, error\u001B[38;5;241m=\u001B[39mnew_e, _pool\u001B[38;5;241m=\u001B[39m\u001B[38;5;28mself\u001B[39m, _stacktrace\u001B[38;5;241m=\u001B[39msys\u001B[38;5;241m.\u001B[39mexc_info()[\u001B[38;5;241m2\u001B[39m]\n\u001B[0;32m    845\u001B[0m )\n\u001B[0;32m    846\u001B[0m retries\u001B[38;5;241m.\u001B[39msleep()\n",
      "File \u001B[1;32mD:\\Develop\\Anaconda\\Lib\\site-packages\\urllib3\\util\\retry.py:474\u001B[0m, in \u001B[0;36mRetry.increment\u001B[1;34m(self, method, url, response, error, _pool, _stacktrace)\u001B[0m\n\u001B[0;32m    473\u001B[0m \u001B[38;5;28;01mif\u001B[39;00m read \u001B[38;5;129;01mis\u001B[39;00m \u001B[38;5;28;01mFalse\u001B[39;00m \u001B[38;5;129;01mor\u001B[39;00m method \u001B[38;5;129;01mis\u001B[39;00m \u001B[38;5;28;01mNone\u001B[39;00m \u001B[38;5;129;01mor\u001B[39;00m \u001B[38;5;129;01mnot\u001B[39;00m \u001B[38;5;28mself\u001B[39m\u001B[38;5;241m.\u001B[39m_is_method_retryable(method):\n\u001B[1;32m--> 474\u001B[0m     \u001B[38;5;28;01mraise\u001B[39;00m reraise(\u001B[38;5;28mtype\u001B[39m(error), error, _stacktrace)\n\u001B[0;32m    475\u001B[0m \u001B[38;5;28;01melif\u001B[39;00m read \u001B[38;5;129;01mis\u001B[39;00m \u001B[38;5;129;01mnot\u001B[39;00m \u001B[38;5;28;01mNone\u001B[39;00m:\n",
      "File \u001B[1;32mD:\\Develop\\Anaconda\\Lib\\site-packages\\urllib3\\util\\util.py:39\u001B[0m, in \u001B[0;36mreraise\u001B[1;34m(tp, value, tb)\u001B[0m\n\u001B[0;32m     38\u001B[0m         \u001B[38;5;28;01mraise\u001B[39;00m value\u001B[38;5;241m.\u001B[39mwith_traceback(tb)\n\u001B[1;32m---> 39\u001B[0m     \u001B[38;5;28;01mraise\u001B[39;00m value\n\u001B[0;32m     40\u001B[0m \u001B[38;5;28;01mfinally\u001B[39;00m:\n",
      "File \u001B[1;32mD:\\Develop\\Anaconda\\Lib\\site-packages\\urllib3\\connectionpool.py:789\u001B[0m, in \u001B[0;36mHTTPConnectionPool.urlopen\u001B[1;34m(self, method, url, body, headers, retries, redirect, assert_same_host, timeout, pool_timeout, release_conn, chunked, body_pos, preload_content, decode_content, **response_kw)\u001B[0m\n\u001B[0;32m    788\u001B[0m \u001B[38;5;66;03m# Make the request on the HTTPConnection object\u001B[39;00m\n\u001B[1;32m--> 789\u001B[0m response \u001B[38;5;241m=\u001B[39m \u001B[38;5;28mself\u001B[39m\u001B[38;5;241m.\u001B[39m_make_request(\n\u001B[0;32m    790\u001B[0m     conn,\n\u001B[0;32m    791\u001B[0m     method,\n\u001B[0;32m    792\u001B[0m     url,\n\u001B[0;32m    793\u001B[0m     timeout\u001B[38;5;241m=\u001B[39mtimeout_obj,\n\u001B[0;32m    794\u001B[0m     body\u001B[38;5;241m=\u001B[39mbody,\n\u001B[0;32m    795\u001B[0m     headers\u001B[38;5;241m=\u001B[39mheaders,\n\u001B[0;32m    796\u001B[0m     chunked\u001B[38;5;241m=\u001B[39mchunked,\n\u001B[0;32m    797\u001B[0m     retries\u001B[38;5;241m=\u001B[39mretries,\n\u001B[0;32m    798\u001B[0m     response_conn\u001B[38;5;241m=\u001B[39mresponse_conn,\n\u001B[0;32m    799\u001B[0m     preload_content\u001B[38;5;241m=\u001B[39mpreload_content,\n\u001B[0;32m    800\u001B[0m     decode_content\u001B[38;5;241m=\u001B[39mdecode_content,\n\u001B[0;32m    801\u001B[0m     \u001B[38;5;241m*\u001B[39m\u001B[38;5;241m*\u001B[39mresponse_kw,\n\u001B[0;32m    802\u001B[0m )\n\u001B[0;32m    804\u001B[0m \u001B[38;5;66;03m# Everything went great!\u001B[39;00m\n",
      "File \u001B[1;32mD:\\Develop\\Anaconda\\Lib\\site-packages\\urllib3\\connectionpool.py:538\u001B[0m, in \u001B[0;36mHTTPConnectionPool._make_request\u001B[1;34m(self, conn, method, url, body, headers, retries, timeout, chunked, response_conn, preload_content, decode_content, enforce_content_length)\u001B[0m\n\u001B[0;32m    537\u001B[0m \u001B[38;5;28;01mexcept\u001B[39;00m (BaseSSLError, \u001B[38;5;167;01mOSError\u001B[39;00m) \u001B[38;5;28;01mas\u001B[39;00m e:\n\u001B[1;32m--> 538\u001B[0m     \u001B[38;5;28mself\u001B[39m\u001B[38;5;241m.\u001B[39m_raise_timeout(err\u001B[38;5;241m=\u001B[39me, url\u001B[38;5;241m=\u001B[39murl, timeout_value\u001B[38;5;241m=\u001B[39mread_timeout)\n\u001B[0;32m    539\u001B[0m     \u001B[38;5;28;01mraise\u001B[39;00m\n",
      "File \u001B[1;32mD:\\Develop\\Anaconda\\Lib\\site-packages\\urllib3\\connectionpool.py:369\u001B[0m, in \u001B[0;36mHTTPConnectionPool._raise_timeout\u001B[1;34m(self, err, url, timeout_value)\u001B[0m\n\u001B[0;32m    368\u001B[0m \u001B[38;5;28;01mif\u001B[39;00m \u001B[38;5;28misinstance\u001B[39m(err, SocketTimeout):\n\u001B[1;32m--> 369\u001B[0m     \u001B[38;5;28;01mraise\u001B[39;00m ReadTimeoutError(\n\u001B[0;32m    370\u001B[0m         \u001B[38;5;28mself\u001B[39m, url, \u001B[38;5;124mf\u001B[39m\u001B[38;5;124m\"\u001B[39m\u001B[38;5;124mRead timed out. (read timeout=\u001B[39m\u001B[38;5;132;01m{\u001B[39;00mtimeout_value\u001B[38;5;132;01m}\u001B[39;00m\u001B[38;5;124m)\u001B[39m\u001B[38;5;124m\"\u001B[39m\n\u001B[0;32m    371\u001B[0m     ) \u001B[38;5;28;01mfrom\u001B[39;00m \u001B[38;5;21;01merr\u001B[39;00m\n\u001B[0;32m    373\u001B[0m \u001B[38;5;66;03m# See the above comment about EAGAIN in Python 3.\u001B[39;00m\n",
      "\u001B[1;31mReadTimeoutError\u001B[0m: HTTPSConnectionPool(host='search-multimodal-search-test-gez3l2duqognw43jg4nkoevpyu.us-east-1.es.amazonaws.com', port=443): Read timed out. (read timeout=10)",
      "\nDuring handling of the above exception, another exception occurred:\n",
      "\u001B[1;31mReadTimeout\u001B[0m                               Traceback (most recent call last)",
      "File \u001B[1;32mD:\\Develop\\Anaconda\\Lib\\site-packages\\opensearchpy\\connection\\http_requests.py:199\u001B[0m, in \u001B[0;36mRequestsHttpConnection.perform_request\u001B[1;34m(self, method, url, params, body, timeout, allow_redirects, ignore, headers)\u001B[0m\n\u001B[0;32m    198\u001B[0m \u001B[38;5;28mself\u001B[39m\u001B[38;5;241m.\u001B[39mmetrics\u001B[38;5;241m.\u001B[39mrequest_start()\n\u001B[1;32m--> 199\u001B[0m response \u001B[38;5;241m=\u001B[39m \u001B[38;5;28mself\u001B[39m\u001B[38;5;241m.\u001B[39msession\u001B[38;5;241m.\u001B[39msend(prepared_request, \u001B[38;5;241m*\u001B[39m\u001B[38;5;241m*\u001B[39msend_kwargs)\n\u001B[0;32m    200\u001B[0m duration \u001B[38;5;241m=\u001B[39m time\u001B[38;5;241m.\u001B[39mtime() \u001B[38;5;241m-\u001B[39m start\n",
      "File \u001B[1;32mD:\\Develop\\Anaconda\\Lib\\site-packages\\requests\\sessions.py:703\u001B[0m, in \u001B[0;36mSession.send\u001B[1;34m(self, request, **kwargs)\u001B[0m\n\u001B[0;32m    702\u001B[0m \u001B[38;5;66;03m# Send the request\u001B[39;00m\n\u001B[1;32m--> 703\u001B[0m r \u001B[38;5;241m=\u001B[39m adapter\u001B[38;5;241m.\u001B[39msend(request, \u001B[38;5;241m*\u001B[39m\u001B[38;5;241m*\u001B[39mkwargs)\n\u001B[0;32m    705\u001B[0m \u001B[38;5;66;03m# Total elapsed time of the request (approximately)\u001B[39;00m\n",
      "File \u001B[1;32mD:\\Develop\\Anaconda\\Lib\\site-packages\\requests\\adapters.py:635\u001B[0m, in \u001B[0;36mHTTPAdapter.send\u001B[1;34m(self, request, stream, timeout, verify, cert, proxies)\u001B[0m\n\u001B[0;32m    634\u001B[0m \u001B[38;5;28;01melif\u001B[39;00m \u001B[38;5;28misinstance\u001B[39m(e, ReadTimeoutError):\n\u001B[1;32m--> 635\u001B[0m     \u001B[38;5;28;01mraise\u001B[39;00m ReadTimeout(e, request\u001B[38;5;241m=\u001B[39mrequest)\n\u001B[0;32m    636\u001B[0m \u001B[38;5;28;01melif\u001B[39;00m \u001B[38;5;28misinstance\u001B[39m(e, _InvalidHeader):\n",
      "\u001B[1;31mReadTimeout\u001B[0m: HTTPSConnectionPool(host='search-multimodal-search-test-gez3l2duqognw43jg4nkoevpyu.us-east-1.es.amazonaws.com', port=443): Read timed out. (read timeout=10)",
      "\nDuring handling of the above exception, another exception occurred:\n",
      "\u001B[1;31mConnectionTimeout\u001B[0m                         Traceback (most recent call last)",
      "Cell \u001B[1;32mIn[40], line 52\u001B[0m\n\u001B[0;32m     49\u001B[0m body_ \u001B[38;5;241m=\u001B[39m body_ \u001B[38;5;241m+\u001B[39m action \u001B[38;5;241m+\u001B[39m \u001B[38;5;124m\"\u001B[39m\u001B[38;5;130;01m\\n\u001B[39;00m\u001B[38;5;124m\"\u001B[39m \u001B[38;5;241m+\u001B[39m json\u001B[38;5;241m.\u001B[39mdumps(payload) \u001B[38;5;241m+\u001B[39m \u001B[38;5;124m\"\u001B[39m\u001B[38;5;130;01m\\n\u001B[39;00m\u001B[38;5;124m\"\u001B[39m\n\u001B[0;32m     51\u001B[0m \u001B[38;5;28;01mif\u001B[39;00m(count \u001B[38;5;241m==\u001B[39m batch_size):\n\u001B[1;32m---> 52\u001B[0m     response \u001B[38;5;241m=\u001B[39m aos_client\u001B[38;5;241m.\u001B[39mbulk(\n\u001B[0;32m     53\u001B[0m     index \u001B[38;5;241m=\u001B[39m \u001B[38;5;124m'\u001B[39m\u001B[38;5;124mbedrock-multimodal-demostore-search-index\u001B[39m\u001B[38;5;124m'\u001B[39m,\n\u001B[0;32m     54\u001B[0m     body \u001B[38;5;241m=\u001B[39m body_\n\u001B[0;32m     55\u001B[0m     )\n\u001B[0;32m     56\u001B[0m     batch \u001B[38;5;241m+\u001B[39m\u001B[38;5;241m=\u001B[39m \u001B[38;5;241m1\u001B[39m\n\u001B[0;32m     57\u001B[0m     count \u001B[38;5;241m=\u001B[39m \u001B[38;5;241m0\u001B[39m\n",
      "File \u001B[1;32mD:\\Develop\\Anaconda\\Lib\\site-packages\\opensearchpy\\client\\utils.py:180\u001B[0m, in \u001B[0;36mquery_params.<locals>._wrapper.<locals>._wrapped\u001B[1;34m(*args, **kwargs)\u001B[0m\n\u001B[0;32m    177\u001B[0m         \u001B[38;5;28;01mif\u001B[39;00m v \u001B[38;5;129;01mis\u001B[39;00m \u001B[38;5;129;01mnot\u001B[39;00m \u001B[38;5;28;01mNone\u001B[39;00m:\n\u001B[0;32m    178\u001B[0m             params[p] \u001B[38;5;241m=\u001B[39m _escape(v)\n\u001B[1;32m--> 180\u001B[0m \u001B[38;5;28;01mreturn\u001B[39;00m func(\u001B[38;5;241m*\u001B[39margs, params\u001B[38;5;241m=\u001B[39mparams, headers\u001B[38;5;241m=\u001B[39mheaders, \u001B[38;5;241m*\u001B[39m\u001B[38;5;241m*\u001B[39mkwargs)\n",
      "File \u001B[1;32mD:\\Develop\\Anaconda\\Lib\\site-packages\\opensearchpy\\client\\__init__.py:557\u001B[0m, in \u001B[0;36mOpenSearch.bulk\u001B[1;34m(self, body, index, params, headers)\u001B[0m\n\u001B[0;32m    554\u001B[0m     \u001B[38;5;28;01mraise\u001B[39;00m \u001B[38;5;167;01mValueError\u001B[39;00m(\u001B[38;5;124m\"\u001B[39m\u001B[38;5;124mEmpty value passed for a required argument \u001B[39m\u001B[38;5;124m'\u001B[39m\u001B[38;5;124mbody\u001B[39m\u001B[38;5;124m'\u001B[39m\u001B[38;5;124m.\u001B[39m\u001B[38;5;124m\"\u001B[39m)\n\u001B[0;32m    556\u001B[0m body \u001B[38;5;241m=\u001B[39m _bulk_body(\u001B[38;5;28mself\u001B[39m\u001B[38;5;241m.\u001B[39mtransport\u001B[38;5;241m.\u001B[39mserializer, body)\n\u001B[1;32m--> 557\u001B[0m \u001B[38;5;28;01mreturn\u001B[39;00m \u001B[38;5;28mself\u001B[39m\u001B[38;5;241m.\u001B[39mtransport\u001B[38;5;241m.\u001B[39mperform_request(\n\u001B[0;32m    558\u001B[0m     \u001B[38;5;124m\"\u001B[39m\u001B[38;5;124mPOST\u001B[39m\u001B[38;5;124m\"\u001B[39m,\n\u001B[0;32m    559\u001B[0m     _make_path(index, \u001B[38;5;124m\"\u001B[39m\u001B[38;5;124m_bulk\u001B[39m\u001B[38;5;124m\"\u001B[39m),\n\u001B[0;32m    560\u001B[0m     params\u001B[38;5;241m=\u001B[39mparams,\n\u001B[0;32m    561\u001B[0m     headers\u001B[38;5;241m=\u001B[39mheaders,\n\u001B[0;32m    562\u001B[0m     body\u001B[38;5;241m=\u001B[39mbody,\n\u001B[0;32m    563\u001B[0m )\n",
      "File \u001B[1;32mD:\\Develop\\Anaconda\\Lib\\site-packages\\opensearchpy\\transport.py:455\u001B[0m, in \u001B[0;36mTransport.perform_request\u001B[1;34m(self, method, url, params, body, timeout, ignore, headers)\u001B[0m\n\u001B[0;32m    453\u001B[0m             \u001B[38;5;28;01mraise\u001B[39;00m e\n\u001B[0;32m    454\u001B[0m     \u001B[38;5;28;01melse\u001B[39;00m:\n\u001B[1;32m--> 455\u001B[0m         \u001B[38;5;28;01mraise\u001B[39;00m e\n\u001B[0;32m    457\u001B[0m \u001B[38;5;28;01melse\u001B[39;00m:\n\u001B[0;32m    458\u001B[0m     \u001B[38;5;66;03m# connection didn't fail, confirm its live status\u001B[39;00m\n\u001B[0;32m    459\u001B[0m     \u001B[38;5;28mself\u001B[39m\u001B[38;5;241m.\u001B[39mconnection_pool\u001B[38;5;241m.\u001B[39mmark_live(connection)\n",
      "File \u001B[1;32mD:\\Develop\\Anaconda\\Lib\\site-packages\\opensearchpy\\transport.py:416\u001B[0m, in \u001B[0;36mTransport.perform_request\u001B[1;34m(self, method, url, params, body, timeout, ignore, headers)\u001B[0m\n\u001B[0;32m    413\u001B[0m connection \u001B[38;5;241m=\u001B[39m \u001B[38;5;28mself\u001B[39m\u001B[38;5;241m.\u001B[39mget_connection()\n\u001B[0;32m    415\u001B[0m \u001B[38;5;28;01mtry\u001B[39;00m:\n\u001B[1;32m--> 416\u001B[0m     status, headers_response, data \u001B[38;5;241m=\u001B[39m connection\u001B[38;5;241m.\u001B[39mperform_request(\n\u001B[0;32m    417\u001B[0m         method,\n\u001B[0;32m    418\u001B[0m         url,\n\u001B[0;32m    419\u001B[0m         params,\n\u001B[0;32m    420\u001B[0m         body,\n\u001B[0;32m    421\u001B[0m         headers\u001B[38;5;241m=\u001B[39mheaders,\n\u001B[0;32m    422\u001B[0m         ignore\u001B[38;5;241m=\u001B[39mignore,\n\u001B[0;32m    423\u001B[0m         timeout\u001B[38;5;241m=\u001B[39mtimeout,\n\u001B[0;32m    424\u001B[0m     )\n\u001B[0;32m    426\u001B[0m     \u001B[38;5;66;03m# Lowercase all the header names for consistency in accessing them.\u001B[39;00m\n\u001B[0;32m    427\u001B[0m     headers_response \u001B[38;5;241m=\u001B[39m {\n\u001B[0;32m    428\u001B[0m         header\u001B[38;5;241m.\u001B[39mlower(): value \u001B[38;5;28;01mfor\u001B[39;00m header, value \u001B[38;5;129;01min\u001B[39;00m headers_response\u001B[38;5;241m.\u001B[39mitems()\n\u001B[0;32m    429\u001B[0m     }\n",
      "File \u001B[1;32mD:\\Develop\\Anaconda\\Lib\\site-packages\\opensearchpy\\connection\\http_requests.py:216\u001B[0m, in \u001B[0;36mRequestsHttpConnection.perform_request\u001B[1;34m(self, method, url, params, body, timeout, allow_redirects, ignore, headers)\u001B[0m\n\u001B[0;32m    214\u001B[0m         \u001B[38;5;28;01mraise\u001B[39;00m SSLError(\u001B[38;5;124m\"\u001B[39m\u001B[38;5;124mN/A\u001B[39m\u001B[38;5;124m\"\u001B[39m, \u001B[38;5;28mstr\u001B[39m(e), e)\n\u001B[0;32m    215\u001B[0m     \u001B[38;5;28;01mif\u001B[39;00m \u001B[38;5;28misinstance\u001B[39m(e, requests\u001B[38;5;241m.\u001B[39mTimeout):\n\u001B[1;32m--> 216\u001B[0m         \u001B[38;5;28;01mraise\u001B[39;00m ConnectionTimeout(\u001B[38;5;124m\"\u001B[39m\u001B[38;5;124mTIMEOUT\u001B[39m\u001B[38;5;124m\"\u001B[39m, \u001B[38;5;28mstr\u001B[39m(e), e)\n\u001B[0;32m    217\u001B[0m     \u001B[38;5;28;01mraise\u001B[39;00m \u001B[38;5;167;01mConnectionError\u001B[39;00m(\u001B[38;5;124m\"\u001B[39m\u001B[38;5;124mN/A\u001B[39m\u001B[38;5;124m\"\u001B[39m, \u001B[38;5;28mstr\u001B[39m(e), e)\n\u001B[0;32m    218\u001B[0m \u001B[38;5;28;01mfinally\u001B[39;00m:\n",
      "\u001B[1;31mConnectionTimeout\u001B[0m: ConnectionTimeout caused by - ReadTimeout(HTTPSConnectionPool(host='search-multimodal-search-test-gez3l2duqognw43jg4nkoevpyu.us-east-1.es.amazonaws.com', port=443): Read timed out. (read timeout=10))"
     ]
    }
   ],
   "execution_count": 40
  },
  {
   "cell_type": "markdown",
   "id": "a62ea707ac8f5df1",
   "metadata": {},
   "source": "## Delete all index"
  },
  {
   "metadata": {
    "ExecuteTime": {
     "end_time": "2024-07-17T07:32:59.976336Z",
     "start_time": "2024-07-17T07:32:58.882051Z"
    }
   },
   "cell_type": "code",
   "source": "aos_client.indices.delete(index='bedrock-multimodal-demostore-search-index', ignore=[400, 404])",
   "id": "918c3234fccd463d",
   "outputs": [
    {
     "data": {
      "text/plain": [
       "{'acknowledged': True}"
      ]
     },
     "execution_count": 26,
     "metadata": {},
     "output_type": "execute_result"
    }
   ],
   "execution_count": 26
  },
  {
   "metadata": {},
   "cell_type": "markdown",
   "source": "## 8. Experiment 1: Keyword search",
   "id": "c0b08140"
  },
  {
   "cell_type": "code",
   "execution_count": null,
   "id": "58dbb176",
   "metadata": {},
   "outputs": [],
   "source": [
    "#Keyword Search\n",
    "query = \"trendy footwear for women\"\n",
    "url = 'https://' + host + \"/bedrock-multimodal-demostore-search-index/_search\"\n",
    "keyword_payload = {\"_source\": {\n",
    "        \"exclude\": [\n",
    "            \"vector_embedding\"\n",
    "        ]\n",
    "        },\n",
    "        \"query\": {    \"match\": {\n",
    "                        \"product_description\": {\n",
    "                            \"query\": query\n",
    "                        }\n",
    "                        }\n",
    "                    }\n",
    "        \n",
    "        ,\"size\":5,\n",
    "  }\n",
    "\n",
    "r = requests.get(url, auth=awsauth, json=keyword_payload, headers=headers)\n",
    "response_ = json.loads(r.text)\n",
    "docs = response_['hits']['hits']\n",
    "\n",
    "for i,doc in enumerate(docs):\n",
    "    print(str(i+1)+ \". \"+doc[\"_source\"][\"product_description\"])\n",
    "    image = Image.open(doc[\"_source\"][\"image_url\"])\n",
    "    image.show()"
   ]
  },
  {
   "cell_type": "markdown",
   "id": "809face1",
   "metadata": {},
   "source": [
    "## 9. Experiment 2: Multimodal search with only text caption as input"
   ]
  },
  {
   "cell_type": "code",
   "execution_count": null,
   "id": "13db1381",
   "metadata": {
    "scrolled": true
   },
   "outputs": [],
   "source": [
    "#Multimodal Search\n",
    "#Text as input\n",
    "\n",
    "query = \"trendy footwear for women\"\n",
    "url = 'https://'+host+\"/bedrock-multimodal-demostore-search-index/_search\"\n",
    "keyword_payload = {\"_source\": {\n",
    "        \"exclude\": [\n",
    "            \"vector_embedding\"\n",
    "        ]\n",
    "        },\n",
    "        \"query\": {    \n",
    "       \n",
    "        \"neural\": {\n",
    "            \"vector_embedding\": {\n",
    "                \n",
    "            #\"query_image\":query_image_binary,\n",
    "            \"query_text\":query,\n",
    "                \n",
    "            \"model_id\": model_id,\n",
    "            \"k\": 3\n",
    "            }\n",
    "            }\n",
    "            \n",
    "                    }\n",
    "        \n",
    "        ,\"size\":5,\n",
    "  }\n",
    "\n",
    "r = requests.get(url, auth=awsauth, json=keyword_payload, headers=headers)\n",
    "response_ = json.loads(r.text)\n",
    "docs = response_['hits']['hits']\n",
    "\n",
    "for i,doc in enumerate(docs):\n",
    "    print(doc[\"_source\"][\"product_description\"])\n",
    "    image = Image.open(doc[\"_source\"][\"image_url\"])\n",
    "    image.show()\n",
    "   \n",
    "    "
   ]
  },
  {
   "cell_type": "markdown",
   "id": "a6ccfd57",
   "metadata": {},
   "source": [
    "## 10. Experiment 3: Multimodal search with only image as input"
   ]
  },
  {
   "cell_type": "code",
   "execution_count": null,
   "id": "87c2cc82",
   "metadata": {},
   "outputs": [],
   "source": [
    "#Multimodal Search\n",
    "#image as input\n",
    "import urllib.request\n",
    "s3 = boto3.client('s3')\n",
    "url = 'https://'+host + \"/bedrock-multimodal-demostore-search-index/_search\"\n",
    "query = \"trendy black footwear for women\"\n",
    "print(\"Input text query: \"+query)\n",
    "# urllib.request.urlretrieve( \n",
    "#   'https://cdn.pixabay.com/photo/2014/09/03/20/15/shoes-434918_1280.jpg',\"tmp/women-footwear.jpg\") \n",
    "image_file = urllib.request.urlretrieve('https://aws-blogs-artifacts-public.s3.amazonaws.com/BDB-3144/women_wear.jpg', 'tmp/women-footwear-1.jpg')\n",
    "img = Image.open(\"tmp/women-footwear-1.jpg\") \n",
    "print(\"Input query Image:\")\n",
    "img.show()\n",
    "with open(\"tmp/women-footwear-1.jpg\", \"rb\") as image_file:\n",
    "    query_image_binary = base64.b64encode(image_file.read()).decode(\"utf8\")\n",
    "keyword_payload = {\"_source\": {\n",
    "        \"exclude\": [\n",
    "            \"vector_embedding\"\n",
    "        ]\n",
    "        },\n",
    "        \"query\": {    \n",
    "       \n",
    "        \"neural\": {\n",
    "            \"vector_embedding\": {\n",
    "                \n",
    "            \"query_image\":query_image_binary,\n",
    "            \"model_id\": model_id,\n",
    "            \"k\": 5\n",
    "            }\n",
    "            \n",
    "            }\n",
    "                    }\n",
    "        \n",
    "        ,\"size\":5,\n",
    "  }\n",
    "\n",
    "r = requests.get(url, auth=awsauth, json=keyword_payload, headers=headers)\n",
    "response_ = json.loads(r.text)\n",
    "docs = response_['hits']['hits']\n",
    "\n",
    "for i,doc in enumerate(docs):\n",
    "    print(doc[\"_source\"][\"product_description\"])\n",
    "    image = Image.open(doc[\"_source\"][\"image_url\"])\n",
    "    image.show()"
   ]
  },
  {
   "cell_type": "markdown",
   "id": "e6a1cb55",
   "metadata": {},
   "source": [
    "## 11. Experiment 4: Multimodal search with both image and text caption as inputs"
   ]
  },
  {
   "cell_type": "code",
   "execution_count": null,
   "id": "bce08e5f",
   "metadata": {},
   "outputs": [],
   "source": [
    "#Multimodal Search\n",
    "#Text and image as inputs\n",
    "import urllib.request\n",
    "s3 = boto3.client('s3')\n",
    "url = 'https://'+host + \"/bedrock-multimodal-demostore-search-index/_search\"\n",
    "query = \"trendy footwear for women\"\n",
    "print(\"Input text query: \"+query)\n",
    "# urllib.request.urlretrieve( \n",
    "#   'https://cdn.pixabay.com/photo/2014/09/03/20/15/shoes-434918_1280.jpg',\"tmp/women-footwear.jpg\") \n",
    "img = Image.open(\"tmp/women-footwear-1.jpg\") \n",
    "print(\"Input query Image:\")\n",
    "img.show()\n",
    "with open(\"tmp/women-footwear-1.jpg\", \"rb\") as image_file:\n",
    "    query_image_binary = base64.b64encode(image_file.read()).decode(\"utf8\")\n",
    "keyword_payload = {\"_source\": {\n",
    "        \"exclude\": [\n",
    "            \"vector_embedding\"\n",
    "        ]\n",
    "        },\n",
    "        \"query\": {    \n",
    "       \n",
    "        \"neural\": {\n",
    "            \"vector_embedding\": {\n",
    "                \n",
    "            \"query_image\":query_image_binary,\n",
    "            \"query_text\":query,\n",
    "                \n",
    "            \"model_id\": model_id,\n",
    "            \"k\": 5\n",
    "            }\n",
    "            \n",
    "            }\n",
    "                    }\n",
    "        \n",
    "        ,\"size\":5,\n",
    "  }\n",
    "\n",
    "r = requests.get(url, auth=awsauth, json=keyword_payload, headers=headers)\n",
    "response_ = json.loads(r.text)\n",
    "docs = response_['hits']['hits']\n",
    "\n",
    "for i,doc in enumerate(docs):\n",
    "    print(doc[\"_source\"][\"product_description\"])\n",
    "    image = Image.open(doc[\"_source\"][\"image_url\"])\n",
    "    image.show()"
   ]
  },
  {
   "cell_type": "code",
   "execution_count": null,
   "id": "c75bc076",
   "metadata": {},
   "outputs": [],
   "source": []
  }
 ],
 "metadata": {
  "kernelspec": {
   "display_name": "Python 3 (ipykernel)",
   "language": "python",
   "name": "python3"
  },
  "language_info": {
   "codemirror_mode": {
    "name": "ipython",
    "version": 3
   },
   "file_extension": ".py",
   "mimetype": "text/x-python",
   "name": "python",
   "nbconvert_exporter": "python",
   "pygments_lexer": "ipython3",
   "version": "3.10.4"
  }
 },
 "nbformat": 4,
 "nbformat_minor": 5
}
